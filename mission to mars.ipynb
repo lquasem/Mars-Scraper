{
 "cells": [
  {
   "cell_type": "code",
   "execution_count": 1,
   "metadata": {},
   "outputs": [],
   "source": [
    "import pandas as pd\n",
    "import requests\n",
    "from splinter import Browser\n",
    "from bs4 import BeautifulSoup"
   ]
  },
  {
   "cell_type": "code",
   "execution_count": 2,
   "metadata": {},
   "outputs": [],
   "source": [
    "# def init_browser():\n",
    "executable_path = {'executable_path': 'chromedriver.exe'}\n",
    "browser = Browser('chrome', **executable_path, headless=False)\n"
   ]
  },
  {
   "cell_type": "code",
   "execution_count": 122,
   "metadata": {},
   "outputs": [],
   "source": [
    "url = 'https://mars.nasa.gov/news/'\n",
    "browser.visit(url)\n",
    "html = browser.html\n",
    "# Parse HTML with Beautiful Soup\n",
    "soup = BeautifulSoup(html, 'html.parser')\n"
   ]
  },
  {
   "cell_type": "markdown",
   "metadata": {},
   "source": [
    "# Scrape the NASA Mars News Site and collect the latest News Title and Paragraph Text. Assign the text to variables that you can reference later."
   ]
  },
  {
   "cell_type": "code",
   "execution_count": 123,
   "metadata": {},
   "outputs": [],
   "source": [
    " # HTML object\n",
    "html = browser.html\n",
    "# Parse HTML with Beautiful Soup\n",
    "soup = BeautifulSoup(html, 'html.parser')\n"
   ]
  },
  {
   "cell_type": "code",
   "execution_count": 124,
   "metadata": {},
   "outputs": [
    {
     "data": {
      "text/plain": [
       "'Small Satellite Mission of the Year'"
      ]
     },
     "execution_count": 124,
     "metadata": {},
     "output_type": "execute_result"
    }
   ],
   "source": [
    "title = soup.find(\"div\", class_=\"content_title\").get_text()\n",
    "title "
   ]
  },
  {
   "cell_type": "code",
   "execution_count": 125,
   "metadata": {},
   "outputs": [
    {
     "data": {
      "text/plain": [
       "'The first interplanetary CubeSats were recognized by the engineering community with the 2019 Small Satellite Mission of the Year award.'"
      ]
     },
     "execution_count": 125,
     "metadata": {},
     "output_type": "execute_result"
    }
   ],
   "source": [
    "news_p = soup.find(\"div\", class_=\"rollover_description_inner\").get_text()\n",
    "\n",
    "news_p"
   ]
  },
  {
   "cell_type": "markdown",
   "metadata": {},
   "source": [
    "# * Use splinter to navigate the site and find the image url for the current Featured Mars Image and assign the url string to a variable called featured_image_url."
   ]
  },
  {
   "cell_type": "code",
   "execution_count": 126,
   "metadata": {},
   "outputs": [
    {
     "data": {
      "text/plain": [
       "\"background-image: url('/spaceimages/images/wallpaper/PIA18295-1920x1200.jpg');\""
      ]
     },
     "execution_count": 126,
     "metadata": {},
     "output_type": "execute_result"
    }
   ],
   "source": [
    "url = 'https://www.jpl.nasa.gov/spaceimages/?search=&category=Mars'\n",
    "browser.visit(url)\n",
    "\n",
    "html = browser.html\n",
    "# Parse HTML with Beautiful Soup\n",
    "soup = BeautifulSoup(html, 'html.parser')\n",
    "links_found = soup.find('div', class_ = 'carousel_items')\n",
    "\n",
    "image_link = links_found.article['style']\n",
    "\n",
    "image_link"
   ]
  },
  {
   "cell_type": "code",
   "execution_count": 127,
   "metadata": {},
   "outputs": [
    {
     "data": {
      "text/plain": [
       "'https://www.jpl.nasa.gov/spaceimages/?search=&category=Mars/spaceimages/images/wallpaper/PIA18295-1920x1200.jpg'"
      ]
     },
     "execution_count": 127,
     "metadata": {},
     "output_type": "execute_result"
    }
   ],
   "source": [
    "\n",
    "featured_image_url = image_link.replace('background-image: url(','')\n",
    "featured_image_url = featured_image_url.replace(');','')\n",
    "featured_image_url = featured_image_url[1:-1]\n",
    "featured_image_url = url + featured_image_url\n",
    " \n",
    "                                                                                                 \n",
    "                                                                                                 \n",
    "featured_image_url                                                                                              "
   ]
  },
  {
   "cell_type": "markdown",
   "metadata": {},
   "source": [
    "# * Use splinter to navigate the site and find the image url for the current Featured Mars Image and assign the url string to a variable called `featured_image_url`."
   ]
  },
  {
   "cell_type": "code",
   "execution_count": null,
   "metadata": {},
   "outputs": [],
   "source": [
    "import urllib\n",
    "from urllib.request import urlopen\n",
    "import re"
   ]
  },
  {
   "cell_type": "markdown",
   "metadata": {},
   "source": [
    "# Mars Weather\n",
    "\n",
    "* Visit the Mars Weather twitter account [here](https://twitter.com/marswxreport?lang=en) and scrape the latest Mars weather tweet from the page. Save the tweet text for the weather report as a variable called `mars_weather`.\n"
   ]
  },
  {
   "cell_type": "code",
   "execution_count": 136,
   "metadata": {},
   "outputs": [
    {
     "data": {
      "text/plain": [
       "['\\nInSight sol 250 (2019-08-10) low -100.0ºC (-148.1ºF) high -26.2ºC (-15.1ºF)\\nwinds from the SSE at 4.4 m/s (9.8 mph) gusting to 16.2 m/s (36.2 mph)\\npressure at 7.60 hPapic.twitter.com/9sZRRUi3dm\\n',\n",
       " '\\nInSight sol 249 (2019-08-09) low -98.8ºC (-145.8ºF) high -26.0ºC (-14.8ºF)\\nwinds from the SSE at 4.4 m/s (9.8 mph) gusting to 17.5 m/s (39.1 mph)\\npressure at 7.60 hPapic.twitter.com/jDOsvHTwYg\\n',\n",
       " '\\nInSight sol 248 (2019-08-08) low -99.6ºC (-147.3ºF) high -25.8ºC (-14.4ºF)\\nwinds from the SSE at 4.5 m/s (10.0 mph) gusting to 16.7 m/s (37.3 mph)\\npressure at 7.60 hPa\\n',\n",
       " '\\nInSight sol 247 (2019-08-07) low -100.4ºC (-148.7ºF) high -26.5ºC (-15.8ºF)\\nwinds from the SSE at 4.6 m/s (10.3 mph) gusting to 16.8 m/s (37.6 mph)\\npressure at 7.60 hPa\\n',\n",
       " '\\nInSight sol 246 (2019-08-06) low -99.4ºC (-146.8ºF) high -26.5ºC (-15.7ºF)\\nwinds from the SSE at 5.3 m/s (11.7 mph) gusting to 18.1 m/s (40.4 mph)\\n',\n",
       " '\\nInSight sol 245 (2019-08-05) low -99.9ºC (-147.8ºF) high -25.6ºC (-14.1ºF)\\nwinds from the SSE at 4.6 m/s (10.2 mph) gusting to 17.7 m/s (39.5 mph)\\npressure at 7.60 hPapic.twitter.com/kLqykpNHtR\\n',\n",
       " '\\nInSight sol 244 (2019-08-03) low -100.3ºC (-148.6ºF) high -27.1ºC (-16.8ºF)\\nwinds from the SSE at 4.4 m/s (9.9 mph) gusting to 15.9 m/s (35.6 mph)\\npressure at 7.60 hPa\\n',\n",
       " '\\nInSight sol 243 (2019-08-02) low -99.8ºC (-147.7ºF) high -25.9ºC (-14.7ºF)\\nwinds from the SSE at 4.5 m/s (10.1 mph) gusting to 17.1 m/s (38.2 mph)\\npressure at 7.60 hPa\\n',\n",
       " '\\nInSight sol 242 (2019-08-01) low -99.1ºC (-146.4ºF) high -26.1ºC (-15.0ºF)\\nwinds from the SW at 4.7 m/s (10.5 mph) gusting to 17.1 m/s (38.2 mph)\\npressure at 7.60 hPa\\n',\n",
       " '\\nInSight sol 241 (2019-07-31) low -100.5ºC (-148.9ºF) high -26.2ºC (-15.2ºF)\\nwinds from the SSE at 4.6 m/s (10.2 mph) gusting to 16.2 m/s (36.2 mph)\\npressure at 7.60 hPa\\n',\n",
       " '\\nInSight sol 240 (2019-07-30) low -98.5ºC (-145.2ºF) high -25.0ºC (-13.1ºF)\\nwinds from the SW at 4.5 m/s (10.1 mph) gusting to 15.8 m/s (35.3 mph)\\npressure at 7.60 hPa\\n',\n",
       " '\\nInSight sol 239 (2019-07-29) low -98.0ºC (-144.3ºF) high -25.7ºC (-14.3ºF)\\nwinds from the SW at 5.3 m/s (11.8 mph) gusting to 20.4 m/s (45.5 mph)\\npressure at 7.60 hPa\\n',\n",
       " '\\nHappy Landiversary to MSL. In 7 years @MarsCuriosity has traveled 23 km (14 mi) and recorded air temps ranging from  -90ºC / -130ºF to 9ºC / 48.2ºF.  Its cold on Mars but ~9% of the Sols reported temps above freezing.pic.twitter.com/fcmnv4CmvY\\n',\n",
       " '\\nMars. Freakin. Helicopter.  @NASAJPL \\n(It’s sideways on the gold colored table, 2 sets of black blades parallel to each other to the left, two feet sticking up and out to the right, main body is a silver rectangular box in between them, first picture has a chair for scale)pic.twitter.com/CQgyggaNd7\\n',\n",
       " '\\nUm @NASAJPL? You might want to check High Bay 1. Looks like Mars2020 is in my driveway. A little ISS is orbiting my front hall too.\\n\\nYou can park @MarsCuriosity’s twin in your garage along with 17 other spacecraft exploring Earth, Mars and beyond with SpacecraftAR https://twitter.com/nasa_eyes/status/1157014939153776640\\xa0…pic.twitter.com/1Ua2U70rVK\\n',\n",
       " '\\nDo you have a passion for sharing the excitement of spaceflight?  @NASAJPL is in need of an on-air commentator for our live broadcasts during critical events (#Mars2020 EDL). Share the excitement and drama of spaceflight as it unfolds in real-time!\\n\\nhttps://jpl.jobs/jobs/2019-10860-Video-Producer-Commentator\\xa0…\\n',\n",
       " '\\nInSight sol 233 (2019-07-23) low -98.8ºC (-145.9ºF) high -25.7ºC (-14.2ºF)\\nwinds from the SE at 4.6 m/s (10.2 mph) gusting to 16.2 m/s (36.2 mph)\\npressure at 7.60 hPapic.twitter.com/ksOXPg28yb\\n',\n",
       " '\\nInSight sol 230 (2019-07-20) low -99.3ºC (-146.8ºF) high -26.1ºC (-15.0ºF)\\nwinds from the SE at 4.0 m/s (9.0 mph) gusting to 15.2 m/s (34.1 mph)\\npressure at 7.60 hPapic.twitter.com/fP2WO4xxjh\\n',\n",
       " '\\nApollo 11 returned home safely 50 years ago today thanks in part to some quick thinking meteorologists and the people who trusted themhttps://twitter.com/rtphokie/status/1154098438205784064\\xa0…\\n',\n",
       " '\\nInSight sol 229 (2019-07-19) low -99.2ºC (-146.6ºF) high -24.7ºC (-12.4ºF)\\nwinds from the SW at 4.0 m/s (9.0 mph) gusting to 14.8 m/s (33.0 mph)\\npressure at 7.60 hPapic.twitter.com/WEjGzvCEhb\\n']"
      ]
     },
     "execution_count": 136,
     "metadata": {},
     "output_type": "execute_result"
    }
   ],
   "source": [
    "url = (\"https://twitter.com/marswxreport?lang=en\")\n",
    "\n",
    "browser.visit(url)\n",
    "\n",
    "html = browser.html\n",
    "# Parse HTML with Beautiful Soup\n",
    "soup = BeautifulSoup(html, 'html.parser')\n",
    "\n",
    "page = requests.get(url)\n",
    "\n",
    "page.text\n",
    "\n",
    "mars_weather =[]\n",
    "\n",
    "mars_weather_elem = soup.find_all(\"div\", class_=\"js-tweet-text-container\")\n",
    "                       \n",
    "                               \n",
    "for item in mars_weather_elem:\n",
    "    mars_weather.append(item.text)\n",
    "                               \n",
    "    \n",
    "mars_weather\n",
    "\n",
    "\n",
    "#     print(mars_weather(item.text)[0])\n",
    "    \n",
    "    \n",
    "                   \n",
    "    \n"
   ]
  },
  {
   "cell_type": "code",
   "execution_count": 139,
   "metadata": {},
   "outputs": [
    {
     "data": {
      "text/plain": [
       "'InSight sol 250 (2019-08-10) low -100.0ºC (-148.1ºF) high -26.2ºC (-15.1ºF)\\nwinds from the SSE at 4.4 m/s (9.8 mph) gusting to 16.2 m/s (36.2 mph)\\npressure at 7.60 hPapic.twitter.com/9sZRRUi3dm'"
      ]
     },
     "execution_count": 139,
     "metadata": {},
     "output_type": "execute_result"
    }
   ],
   "source": [
    "mars_weather_info = soup.find('div', class_ = 'js-tweet-text-container').find('p').text\n",
    "mars_weather_info"
   ]
  },
  {
   "cell_type": "markdown",
   "metadata": {},
   "source": [
    "# use Pandas to scrape the table containing facts about the planet including Diameter, Mass, etc."
   ]
  },
  {
   "cell_type": "code",
   "execution_count": 138,
   "metadata": {},
   "outputs": [
    {
     "data": {
      "text/html": [
       "<div>\n",
       "<style scoped>\n",
       "    .dataframe tbody tr th:only-of-type {\n",
       "        vertical-align: middle;\n",
       "    }\n",
       "\n",
       "    .dataframe tbody tr th {\n",
       "        vertical-align: top;\n",
       "    }\n",
       "\n",
       "    .dataframe thead th {\n",
       "        text-align: right;\n",
       "    }\n",
       "</style>\n",
       "<table border=\"1\" class=\"dataframe\">\n",
       "  <thead>\n",
       "    <tr style=\"text-align: right;\">\n",
       "      <th></th>\n",
       "      <th>0</th>\n",
       "      <th>1</th>\n",
       "    </tr>\n",
       "  </thead>\n",
       "  <tbody>\n",
       "    <tr>\n",
       "      <th>0</th>\n",
       "      <td>Equatorial Diameter:</td>\n",
       "      <td>6,792 km</td>\n",
       "    </tr>\n",
       "    <tr>\n",
       "      <th>1</th>\n",
       "      <td>Polar Diameter:</td>\n",
       "      <td>6,752 km</td>\n",
       "    </tr>\n",
       "    <tr>\n",
       "      <th>2</th>\n",
       "      <td>Mass:</td>\n",
       "      <td>6.39 × 10^23 kg (0.11 Earths)</td>\n",
       "    </tr>\n",
       "    <tr>\n",
       "      <th>3</th>\n",
       "      <td>Moons:</td>\n",
       "      <td>2 (Phobos &amp; Deimos)</td>\n",
       "    </tr>\n",
       "    <tr>\n",
       "      <th>4</th>\n",
       "      <td>Orbit Distance:</td>\n",
       "      <td>227,943,824 km (1.38 AU)</td>\n",
       "    </tr>\n",
       "    <tr>\n",
       "      <th>5</th>\n",
       "      <td>Orbit Period:</td>\n",
       "      <td>687 days (1.9 years)</td>\n",
       "    </tr>\n",
       "    <tr>\n",
       "      <th>6</th>\n",
       "      <td>Surface Temperature:</td>\n",
       "      <td>-87 to -5 °C</td>\n",
       "    </tr>\n",
       "    <tr>\n",
       "      <th>7</th>\n",
       "      <td>First Record:</td>\n",
       "      <td>2nd millennium BC</td>\n",
       "    </tr>\n",
       "    <tr>\n",
       "      <th>8</th>\n",
       "      <td>Recorded By:</td>\n",
       "      <td>Egyptian astronomers</td>\n",
       "    </tr>\n",
       "  </tbody>\n",
       "</table>\n",
       "</div>"
      ],
      "text/plain": [
       "                      0                              1\n",
       "0  Equatorial Diameter:                       6,792 km\n",
       "1       Polar Diameter:                       6,752 km\n",
       "2                 Mass:  6.39 × 10^23 kg (0.11 Earths)\n",
       "3                Moons:            2 (Phobos & Deimos)\n",
       "4       Orbit Distance:       227,943,824 km (1.38 AU)\n",
       "5         Orbit Period:           687 days (1.9 years)\n",
       "6  Surface Temperature:                   -87 to -5 °C\n",
       "7         First Record:              2nd millennium BC\n",
       "8          Recorded By:           Egyptian astronomers"
      ]
     },
     "execution_count": 138,
     "metadata": {},
     "output_type": "execute_result"
    }
   ],
   "source": [
    "url = 'https://space-facts.com/mars/'\n",
    "browser.visit(url)\n",
    "\n",
    "d = pd.read_html('https://space-facts.com/mars/')\n",
    "# <table id=\"tablepress-p-mars\" class=\"tablepress tablepress-id-p-mars\"><tbody><tr class=\"row-1 odd\"><td class=\"column-1\"><strong>Equatorial Diameter:</strong></td><td class=\"column-2\">6,792 km<br></td></tr><tr class=\"row-2 even\"><td class=\"column-1\"><strong>Polar Diameter:</strong></td><td class=\"column-2\">6,752 km<br></td></tr><tr class=\"row-3 odd\"><td class=\"column-1\"><strong>Mass:</strong></td><td class=\"column-2\">6.39 × 10^23 kg<br> (0.11 Earths)</td></tr><tr class=\"row-4 even\"><td class=\"column-1\"><strong>Moons:</strong></td><td class=\"column-2\">2 (<a href=\"https://space-facts.com/moons/phobos/\">Phobos</a> &amp; <a href=\"https://space-facts.com/moons/deimos/\">Deimos</a>)</td></tr><tr class=\"row-5 odd\"><td class=\"column-1\"><strong>Orbit Distance:</strong></td><td class=\"column-2\">227,943,824 km<br> (1.38 AU)</td></tr><tr class=\"row-6 even\"><td class=\"column-1\"><strong>Orbit Period:</strong></td><td class=\"column-2\">687 days (1.9 years)<br></td></tr><tr class=\"row-7 odd\"><td class=\"column-1\"><strong>Surface Temperature: </strong></td><td class=\"column-2\">-87 to -5 °C</td></tr><tr class=\"row-8 even\"><td class=\"column-1\"><strong>First Record:</strong></td><td class=\"column-2\">2nd millennium BC</td></tr><tr class=\"row-9 odd\"><td class=\"column-1\">\n",
    "#                                 <strong>Recorded By:</strong></td><td class=\"column-2\">Egyptian astronomers</td></tr></tbody></table>\n",
    "\n",
    "d[1]"
   ]
  },
  {
   "cell_type": "code",
   "execution_count": 142,
   "metadata": {},
   "outputs": [
    {
     "data": {
      "text/html": [
       "<div>\n",
       "<style scoped>\n",
       "    .dataframe tbody tr th:only-of-type {\n",
       "        vertical-align: middle;\n",
       "    }\n",
       "\n",
       "    .dataframe tbody tr th {\n",
       "        vertical-align: top;\n",
       "    }\n",
       "\n",
       "    .dataframe thead th {\n",
       "        text-align: right;\n",
       "    }\n",
       "</style>\n",
       "<table border=\"1\" class=\"dataframe\">\n",
       "  <thead>\n",
       "    <tr style=\"text-align: right;\">\n",
       "      <th></th>\n",
       "      <th>Mars Facts</th>\n",
       "      <th>Value</th>\n",
       "    </tr>\n",
       "  </thead>\n",
       "  <tbody>\n",
       "    <tr>\n",
       "      <th>0</th>\n",
       "      <td>Equatorial Diameter:</td>\n",
       "      <td>6,792 km</td>\n",
       "    </tr>\n",
       "    <tr>\n",
       "      <th>1</th>\n",
       "      <td>Polar Diameter:</td>\n",
       "      <td>6,752 km</td>\n",
       "    </tr>\n",
       "    <tr>\n",
       "      <th>2</th>\n",
       "      <td>Mass:</td>\n",
       "      <td>6.39 × 10^23 kg (0.11 Earths)</td>\n",
       "    </tr>\n",
       "    <tr>\n",
       "      <th>3</th>\n",
       "      <td>Moons:</td>\n",
       "      <td>2 (Phobos &amp; Deimos)</td>\n",
       "    </tr>\n",
       "    <tr>\n",
       "      <th>4</th>\n",
       "      <td>Orbit Distance:</td>\n",
       "      <td>227,943,824 km (1.38 AU)</td>\n",
       "    </tr>\n",
       "    <tr>\n",
       "      <th>5</th>\n",
       "      <td>Orbit Period:</td>\n",
       "      <td>687 days (1.9 years)</td>\n",
       "    </tr>\n",
       "    <tr>\n",
       "      <th>6</th>\n",
       "      <td>Surface Temperature:</td>\n",
       "      <td>-87 to -5 °C</td>\n",
       "    </tr>\n",
       "    <tr>\n",
       "      <th>7</th>\n",
       "      <td>First Record:</td>\n",
       "      <td>2nd millennium BC</td>\n",
       "    </tr>\n",
       "    <tr>\n",
       "      <th>8</th>\n",
       "      <td>Recorded By:</td>\n",
       "      <td>Egyptian astronomers</td>\n",
       "    </tr>\n",
       "  </tbody>\n",
       "</table>\n",
       "</div>"
      ],
      "text/plain": [
       "             Mars Facts                          Value\n",
       "0  Equatorial Diameter:                       6,792 km\n",
       "1       Polar Diameter:                       6,752 km\n",
       "2                 Mass:  6.39 × 10^23 kg (0.11 Earths)\n",
       "3                Moons:            2 (Phobos & Deimos)\n",
       "4       Orbit Distance:       227,943,824 km (1.38 AU)\n",
       "5         Orbit Period:           687 days (1.9 years)\n",
       "6  Surface Temperature:                   -87 to -5 °C\n",
       "7         First Record:              2nd millennium BC\n",
       "8          Recorded By:           Egyptian astronomers"
      ]
     },
     "execution_count": 142,
     "metadata": {},
     "output_type": "execute_result"
    }
   ],
   "source": [
    "mars_table = pd.DataFrame(d[1])\n",
    "\n",
    "mars_table.columns = ['Mars Facts', 'Value']\n",
    "mars_table"
   ]
  },
  {
   "cell_type": "code",
   "execution_count": 143,
   "metadata": {},
   "outputs": [
    {
     "data": {
      "text/plain": [
       "'<table border=\"1\" class=\"dataframe\">\\n  <thead>\\n    <tr style=\"text-align: right;\">\\n      <th></th>\\n      <th>Mars Facts</th>\\n      <th>Value</th>\\n    </tr>\\n  </thead>\\n  <tbody>\\n    <tr>\\n      <th>0</th>\\n      <td>Equatorial Diameter:</td>\\n      <td>6,792 km</td>\\n    </tr>\\n    <tr>\\n      <th>1</th>\\n      <td>Polar Diameter:</td>\\n      <td>6,752 km</td>\\n    </tr>\\n    <tr>\\n      <th>2</th>\\n      <td>Mass:</td>\\n      <td>6.39 × 10^23 kg (0.11 Earths)</td>\\n    </tr>\\n    <tr>\\n      <th>3</th>\\n      <td>Moons:</td>\\n      <td>2 (Phobos &amp; Deimos)</td>\\n    </tr>\\n    <tr>\\n      <th>4</th>\\n      <td>Orbit Distance:</td>\\n      <td>227,943,824 km (1.38 AU)</td>\\n    </tr>\\n    <tr>\\n      <th>5</th>\\n      <td>Orbit Period:</td>\\n      <td>687 days (1.9 years)</td>\\n    </tr>\\n    <tr>\\n      <th>6</th>\\n      <td>Surface Temperature:</td>\\n      <td>-87 to -5 °C</td>\\n    </tr>\\n    <tr>\\n      <th>7</th>\\n      <td>First Record:</td>\\n      <td>2nd millennium BC</td>\\n    </tr>\\n    <tr>\\n      <th>8</th>\\n      <td>Recorded By:</td>\\n      <td>Egyptian astronomers</td>\\n    </tr>\\n  </tbody>\\n</table>'"
      ]
     },
     "execution_count": 143,
     "metadata": {},
     "output_type": "execute_result"
    }
   ],
   "source": [
    "\n",
    "#convert to HTML string\n",
    "mars_table_html = mars_table.to_html()\n",
    "mars_table_html"
   ]
  },
  {
   "cell_type": "markdown",
   "metadata": {},
   "source": [
    "# Visit the USGS Astrogeology site [here](https://astrogeology.usgs.gov/search/results?q=hemisphere+enhanced&k1=target&v1=Mars) to obtain high resolution images for each of Mar's hemispheres.\n"
   ]
  },
  {
   "cell_type": "code",
   "execution_count": null,
   "metadata": {},
   "outputs": [],
   "source": [
    "url = (\"https://astrogeology.usgs.gov/search/results?q=hemisphere+enhanced&k1=target&v1=Mars\")\n",
    "\n",
    "browser.visit(url)\n",
    "\n",
    "html = browser.html\n",
    "# Parse HTML with Beautiful Soup\n",
    "soup = BeautifulSoup(html, 'html.parser')\n",
    "\n",
    "page = requests.get(url)\n",
    "\n",
    "page.text"
   ]
  },
  {
   "cell_type": "code",
   "execution_count": 13,
   "metadata": {},
   "outputs": [],
   "source": [
    "url = 'https://astrogeology.usgs.gov/search/results?q=hemisphere+enhanced&k1=target&v1=Mars'\n",
    "browser.visit(url)\n",
    "html = browser.html\n",
    "# Parse HTML with Beautiful Soup\n",
    "import time \n"
   ]
  },
  {
   "cell_type": "code",
   "execution_count": 14,
   "metadata": {},
   "outputs": [
    {
     "name": "stdout",
     "output_type": "stream",
     "text": [
      "[{'title': 'Cerberus Hemisphere Enhanced', 'img_url': 'https://astrogeology.usgs.gov/cache/images/cfa62af2557222a02478f1fcd781d445_cerberus_enhanced.tif_full.jpg'}]\n",
      "[{'title': 'Cerberus Hemisphere Enhanced', 'img_url': 'https://astrogeology.usgs.gov/cache/images/cfa62af2557222a02478f1fcd781d445_cerberus_enhanced.tif_full.jpg'}, {'title': 'Schiaparelli Hemisphere Enhanced', 'img_url': 'https://astrogeology.usgs.gov/cache/images/3cdd1cbf5e0813bba925c9030d13b62e_schiaparelli_enhanced.tif_full.jpg'}]\n",
      "[{'title': 'Cerberus Hemisphere Enhanced', 'img_url': 'https://astrogeology.usgs.gov/cache/images/cfa62af2557222a02478f1fcd781d445_cerberus_enhanced.tif_full.jpg'}, {'title': 'Schiaparelli Hemisphere Enhanced', 'img_url': 'https://astrogeology.usgs.gov/cache/images/3cdd1cbf5e0813bba925c9030d13b62e_schiaparelli_enhanced.tif_full.jpg'}, {'title': 'Syrtis Major Hemisphere Enhanced', 'img_url': 'https://astrogeology.usgs.gov/cache/images/ae209b4e408bb6c3e67b6af38168cf28_syrtis_major_enhanced.tif_full.jpg'}]\n",
      "[{'title': 'Cerberus Hemisphere Enhanced', 'img_url': 'https://astrogeology.usgs.gov/cache/images/cfa62af2557222a02478f1fcd781d445_cerberus_enhanced.tif_full.jpg'}, {'title': 'Schiaparelli Hemisphere Enhanced', 'img_url': 'https://astrogeology.usgs.gov/cache/images/3cdd1cbf5e0813bba925c9030d13b62e_schiaparelli_enhanced.tif_full.jpg'}, {'title': 'Syrtis Major Hemisphere Enhanced', 'img_url': 'https://astrogeology.usgs.gov/cache/images/ae209b4e408bb6c3e67b6af38168cf28_syrtis_major_enhanced.tif_full.jpg'}, {'title': 'Valles Marineris Hemisphere Enhanced', 'img_url': 'https://astrogeology.usgs.gov/cache/images/7cf2da4bf549ed01c17f206327be4db7_valles_marineris_enhanced.tif_full.jpg'}]\n"
     ]
    }
   ],
   "source": [
    "# <img class=\"wide-image\" src=\"/cache/images/cfa62af2557222a02478f1fcd781d445_cerberus_enhanced.tif_full.jpg\">\n",
    "# soup.find('a', class_ = 'itemLink product-item').text\n",
    "# loop through the four tags and load the data to the dictionary\n",
    "\n",
    "mars_hemis=[]\n",
    "\n",
    "for i in range (4):\n",
    "    time.sleep(5)\n",
    "    images = browser.find_by_tag('h3')\n",
    "    images[i].click()\n",
    "    html = browser.html\n",
    "    soup = BeautifulSoup(html, 'html.parser')\n",
    "    partial = soup.find(\"img\", class_=\"wide-image\")[\"src\"]\n",
    "    img_title = soup.find(\"h2\",class_=\"title\").text\n",
    "    img_url = 'https://astrogeology.usgs.gov'+ partial\n",
    "    dictionary={\"title\":img_title,\"img_url\":img_url}\n",
    "    mars_hemis.append(dictionary)\n",
    "    browser.back()\n",
    "\n",
    "    print(mars_hemis)"
   ]
  },
  {
   "cell_type": "code",
   "execution_count": 17,
   "metadata": {},
   "outputs": [
    {
     "data": {
      "text/html": [
       "<div>\n",
       "<style scoped>\n",
       "    .dataframe tbody tr th:only-of-type {\n",
       "        vertical-align: middle;\n",
       "    }\n",
       "\n",
       "    .dataframe tbody tr th {\n",
       "        vertical-align: top;\n",
       "    }\n",
       "\n",
       "    .dataframe thead th {\n",
       "        text-align: right;\n",
       "    }\n",
       "</style>\n",
       "<table border=\"1\" class=\"dataframe\">\n",
       "  <thead>\n",
       "    <tr style=\"text-align: right;\">\n",
       "      <th></th>\n",
       "      <th>img_url</th>\n",
       "      <th>title</th>\n",
       "    </tr>\n",
       "  </thead>\n",
       "  <tbody>\n",
       "    <tr>\n",
       "      <th>0</th>\n",
       "      <td>https://astrogeology.usgs.gov/cache/images/cfa...</td>\n",
       "      <td>Cerberus Hemisphere Enhanced</td>\n",
       "    </tr>\n",
       "    <tr>\n",
       "      <th>1</th>\n",
       "      <td>https://astrogeology.usgs.gov/cache/images/3cd...</td>\n",
       "      <td>Schiaparelli Hemisphere Enhanced</td>\n",
       "    </tr>\n",
       "    <tr>\n",
       "      <th>2</th>\n",
       "      <td>https://astrogeology.usgs.gov/cache/images/ae2...</td>\n",
       "      <td>Syrtis Major Hemisphere Enhanced</td>\n",
       "    </tr>\n",
       "    <tr>\n",
       "      <th>3</th>\n",
       "      <td>https://astrogeology.usgs.gov/cache/images/7cf...</td>\n",
       "      <td>Valles Marineris Hemisphere Enhanced</td>\n",
       "    </tr>\n",
       "  </tbody>\n",
       "</table>\n",
       "</div>"
      ],
      "text/plain": [
       "                                             img_url  \\\n",
       "0  https://astrogeology.usgs.gov/cache/images/cfa...   \n",
       "1  https://astrogeology.usgs.gov/cache/images/3cd...   \n",
       "2  https://astrogeology.usgs.gov/cache/images/ae2...   \n",
       "3  https://astrogeology.usgs.gov/cache/images/7cf...   \n",
       "\n",
       "                                  title  \n",
       "0          Cerberus Hemisphere Enhanced  \n",
       "1      Schiaparelli Hemisphere Enhanced  \n",
       "2      Syrtis Major Hemisphere Enhanced  \n",
       "3  Valles Marineris Hemisphere Enhanced  "
      ]
     },
     "execution_count": 17,
     "metadata": {},
     "output_type": "execute_result"
    }
   ],
   "source": [
    "mars_image_df = pd.DataFrame(mars_hemis)\n",
    "\n",
    "mars_image_df"
   ]
  },
  {
   "cell_type": "code",
   "execution_count": null,
   "metadata": {},
   "outputs": [],
   "source": [
    "partial = soup.find(\"img\", class_=\"wide-image\")[\"src\"]\n",
    "hemisphere = soup.find(\"h2\",class_=\"title\").text\n",
    "img_url = 'https://astrogeology.usgs.gov'+ partial"
   ]
  },
  {
   "cell_type": "code",
   "execution_count": null,
   "metadata": {},
   "outputs": [],
   "source": []
  }
 ],
 "metadata": {
  "kernelspec": {
   "display_name": "Python 3",
   "language": "python",
   "name": "python3"
  },
  "language_info": {
   "codemirror_mode": {
    "name": "ipython",
    "version": 3
   },
   "file_extension": ".py",
   "mimetype": "text/x-python",
   "name": "python",
   "nbconvert_exporter": "python",
   "pygments_lexer": "ipython3",
   "version": "3.7.3"
  }
 },
 "nbformat": 4,
 "nbformat_minor": 2
}
